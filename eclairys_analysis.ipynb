{
 "cells": [
  {
   "cell_type": "code",
   "execution_count": 1,
   "metadata": {},
   "outputs": [],
   "source": [
    "import pandas as pd\n",
    "import yfinance as yf\n",
    "from tqdm import tqdm\n",
    "import time\n",
    "import random\n",
    "import numpy as np\n",
    "import os\n",
    "from ipywidgets import widgets, VBox\n",
    "from datetime import datetime\n",
    "from IPython.display import display, clear_output\n",
    "import warnings\n",
    "warnings.filterwarnings(\"ignore\")"
   ]
  },
  {
   "cell_type": "markdown",
   "metadata": {},
   "source": [
    "## 1. Import datas"
   ]
  },
  {
   "cell_type": "code",
   "execution_count": 2,
   "metadata": {},
   "outputs": [],
   "source": [
    "index_df = pd.read_csv(os.getcwd() + '/S&P 500 - 2024.csv', index_col = 'Ticker')"
   ]
  },
  {
   "cell_type": "code",
   "execution_count": null,
   "metadata": {},
   "outputs": [
    {
     "name": "stderr",
     "output_type": "stream",
     "text": [
      "  0%|          | 0/428 [00:00<?, ?it/s]"
     ]
    },
    {
     "name": "stderr",
     "output_type": "stream",
     "text": [
      " 24%|██▍       | 102/428 [08:36<26:35,  4.90s/it]BRK.B: No timezone found, symbol may be delisted\n"
     ]
    },
    {
     "name": "stdout",
     "output_type": "stream",
     "text": [
      "BRK.B\n"
     ]
    },
    {
     "name": "stderr",
     "output_type": "stream",
     "text": [
      "100%|██████████| 428/428 [35:45<00:00,  5.01s/it]\n"
     ]
    }
   ],
   "source": [
    "for ticker in tqdm(index_df.index):\n",
    "    try:\n",
    "        history = yf.Ticker(ticker).history('max')\n",
    "        history = history.resample('B').last().ffill()\n",
    "        history = history.tz_localize(None)\n",
    "        history.to_csv(os.getcwd() + '/history/' + ticker + '.csv')\n",
    "    except:\n",
    "        print(ticker)\n",
    "    time.sleep(random.uniform(3,5))"
   ]
  },
  {
   "cell_type": "code",
   "execution_count": 9,
   "metadata": {},
   "outputs": [
    {
     "name": "stderr",
     "output_type": "stream",
     "text": [
      "100%|██████████| 503/503 [19:09<00:00,  2.28s/it]\n"
     ]
    }
   ],
   "source": [
    "for ticker in tqdm(index_df.index):\n",
    "    try:\n",
    "        cashflow = yf.Ticker(ticker).cashflow\n",
    "        cashflow.to_csv(os.getcwd() + '/cashflow/' + ticker + '.csv')\n",
    "    except:\n",
    "        print(ticker)\n",
    "    time.sleep(random.uniform(1,3))"
   ]
  },
  {
   "cell_type": "code",
   "execution_count": null,
   "metadata": {},
   "outputs": [
    {
     "name": "stderr",
     "output_type": "stream",
     "text": [
      "100%|██████████| 323/323 [22:55<00:00,  4.26s/it]\n"
     ]
    }
   ],
   "source": [
    "for ticker in tqdm(index_df.index):\n",
    "    try:\n",
    "        income_stmt = yf.Ticker(ticker).income_stmt\n",
    "        income_stmt.to_csv(os.getcwd() + '/income_stmt/' + ticker + '.csv')\n",
    "    except:\n",
    "        print(ticker)\n",
    "    time.sleep(random.uniform(3,5))"
   ]
  },
  {
   "cell_type": "code",
   "execution_count": 8,
   "metadata": {},
   "outputs": [
    {
     "name": "stderr",
     "output_type": "stream",
     "text": [
      "100%|██████████| 503/503 [27:51<00:00,  3.32s/it]\n"
     ]
    }
   ],
   "source": [
    "for ticker in tqdm(index_df.index):\n",
    "    try:\n",
    "        balance_sheet = yf.Ticker(ticker).balance_sheet\n",
    "        balance_sheet.to_csv(os.getcwd() + '/balance_sheet/' + ticker + '.csv')\n",
    "    except:\n",
    "        print(ticker)\n",
    "    time.sleep(random.uniform(2,4))"
   ]
  },
  {
   "cell_type": "markdown",
   "metadata": {},
   "source": [
    "## 2. Company size analysis"
   ]
  },
  {
   "cell_type": "code",
   "execution_count": null,
   "metadata": {},
   "outputs": [],
   "source": [
    "total_asset_threshold = 4000000000\n",
    "total_revenue_threshold = 3000000000\n",
    "ticker_list = list(index_df.index)"
   ]
  },
  {
   "cell_type": "code",
   "execution_count": null,
   "metadata": {},
   "outputs": [
    {
     "name": "stderr",
     "output_type": "stream",
     "text": [
      "100%|██████████| 122/122 [00:00<00:00, 507.31it/s]\n"
     ]
    }
   ],
   "source": [
    "company_size_df = pd.DataFrame()\n",
    "for ticker in tqdm(ticker_list):\n",
    "    \n",
    "    total_assets = balance_sheet_df.loc['Total Assets', ticker]\n",
    "    if total_assets > total_asset_threshold:\n",
    "        company_size_df.at[ticker, 'Total Assets'] = True\n",
    "    else:\n",
    "        company_size_df.at[ticker, 'Total Assets'] = False\n",
    "\n",
    "    total_revenue = income_stmt_df.loc['Total Revenue', ticker]\n",
    "    if total_revenue > total_revenue_threshold:\n",
    "        company_size_df.at[ticker, 'Total Revenue'] = True\n",
    "    else:\n",
    "        company_size_df.at[ticker, 'Total Revenue'] = False\n",
    "\n",
    "company_size_selected = list(company_size_df[(company_size_df['Total Assets'] | company_size_df['Total Revenue'])].index)"
   ]
  },
  {
   "cell_type": "markdown",
   "metadata": {},
   "source": [
    "## 3. ESG analysis"
   ]
  },
  {
   "cell_type": "code",
   "execution_count": null,
   "metadata": {},
   "outputs": [],
   "source": []
  },
  {
   "cell_type": "markdown",
   "metadata": {},
   "source": [
    "## 4. Fundamental analysis"
   ]
  },
  {
   "cell_type": "code",
   "execution_count": null,
   "metadata": {},
   "outputs": [],
   "source": []
  },
  {
   "cell_type": "markdown",
   "metadata": {},
   "source": [
    "## 5. Momentum analysis"
   ]
  },
  {
   "cell_type": "code",
   "execution_count": 2,
   "metadata": {},
   "outputs": [
    {
     "name": "stderr",
     "output_type": "stream",
     "text": [
      "100%|██████████| 503/503 [00:13<00:00, 37.84it/s]\n"
     ]
    }
   ],
   "source": [
    "short_period = [5, 10, 20]\n",
    "long_period = [50, 100, 200]\n",
    "period_list = short_period + long_period\n",
    "ticker_list = index_df = list(pd.read_csv(os.getcwd() + '/S&P 500 - 2024.csv', index_col = 'Ticker').index)\n",
    "\n",
    "history_df = pd.DataFrame()\n",
    "for ticker in tqdm(ticker_list):\n",
    "    history_df[ticker] = pd.read_csv(os.getcwd() + f'/history/{ticker}.csv', index_col='Date')['Close']\n",
    "history_df.index = pd.to_datetime(history_df.index)"
   ]
  },
  {
   "cell_type": "code",
   "execution_count": null,
   "metadata": {},
   "outputs": [
    {
     "name": "stderr",
     "output_type": "stream",
     "text": [
      "100%|██████████| 503/503 [00:06<00:00, 76.84it/s] \n",
      "100%|██████████| 503/503 [00:00<00:00, 1898.88it/s]\n"
     ]
    }
   ],
   "source": [
    "# Initialize empty DataFrames to store the moving average differentials (MAD) and normalized MAD (MADN) for each ticker\n",
    "MAD_df = pd.DataFrame()\n",
    "MADN_df = pd.DataFrame()\n",
    "\n",
    "# Loop through each ticker in the ticker list\n",
    "for ticker in tqdm(ticker_list):\n",
    "    \n",
    "    # Get historical price data for the ticker, dropping any NaN values\n",
    "    history = history_df[ticker].dropna()\n",
    "    \n",
    "    # Check if the history data is empty or if it has fewer entries than the maximum period in period_list\n",
    "    if history.empty or len(history) < max(period_list):\n",
    "        # If data is insufficient, assign NaN values for all periods in MAD and MADN\n",
    "        for period in period_list:\n",
    "            MAD_df.at[ticker, period] = np.nan\n",
    "            MADN_df.at[ticker, period] = np.nan\n",
    "    else:\n",
    "        # Calculate MAD and MADN for each period if data is sufficient\n",
    "        for period in period_list:\n",
    "            # Calculate the moving average for the current period, removing NaN values\n",
    "            MA = history.rolling(period).mean().dropna()\n",
    "            \n",
    "            # Calculate the moving average differential (change over 5 periods)\n",
    "            MAD = MA.diff(5).dropna()\n",
    "            \n",
    "            # Store the last value of the MAD for the current period and ticker\n",
    "            MAD_df.at[ticker, period] = MAD.iloc[-1]\n",
    "            \n",
    "            # Normalize the MAD values to a 0-100 scale and store the last value in MADN\n",
    "            MADN = 100 * (MAD - MAD.min()) / (MAD.max() - MAD.min())\n",
    "            MADN_df.at[ticker, period] = MADN.iloc[-1]\n",
    "\n",
    "# Convert MAD values into boolean values (1 if positive, 0 if negative) for each period in MAD_df\n",
    "BMAD_df = MAD_df.applymap(lambda x: 0 if x < 0 else 1)\n",
    "\n",
    "# Calculate the sum of boolean values across short periods and long periods for each ticker\n",
    "SBMAD_df = BMAD_df[short_period].sum(axis=1)  # Sum across short periods\n",
    "LBMAD_df = BMAD_df[long_period].sum(axis=1)   # Sum across long periods\n",
    "\n",
    "# Initialize an empty Series to store GPS categories for each ticker\n",
    "GPS_df = pd.Series()\n",
    "\n",
    "# Loop through each ticker to assign GPS categories based on SBMAD and LBMAD values\n",
    "for ticker in tqdm(ticker_list):\n",
    "    SBMAD = SBMAD_df[ticker]\n",
    "    LBMAD = LBMAD_df[ticker]\n",
    "    \n",
    "    # Assign GPS categories based on the combination of SBMAD and LBMAD values\n",
    "    if SBMAD >= 2 and LBMAD >= 2:\n",
    "        GPS_df[ticker] = 'A'\n",
    "    elif SBMAD < 2 and LBMAD < 2:\n",
    "        GPS_df[ticker] = 'B'\n",
    "    elif SBMAD >= 2 and LBMAD < 2:\n",
    "        GPS_df[ticker] = 'C'\n",
    "    elif SBMAD < 2 and LBMAD >= 2:\n",
    "        GPS_df[ticker] = 'P'\n",
    "\n",
    "# Calculate the overall grade for each ticker by averaging the normalized MADN across all periods\n",
    "# Sort the results in descending order\n",
    "GRADE_df = MADN_df.mean(axis=1).sort_values(ascending=False)\n"
   ]
  },
  {
   "cell_type": "code",
   "execution_count": 3,
   "metadata": {},
   "outputs": [],
   "source": [
    "def eclairys(history, date, short_period=[5, 10, 20], long_period=[50, 100, 200]):\n",
    "    \n",
    "    # Convert the date to a timezone-naive datetime object\n",
    "    date = pd.to_datetime(date).tz_localize(None)\n",
    "    \n",
    "    # Combine short and long periods into a single list for calculations\n",
    "    period_list = short_period + long_period\n",
    "    \n",
    "    # Remove any rows with NaN values in the historical data\n",
    "    history = history.dropna()\n",
    "    \n",
    "    # Initialize empty DataFrames to store moving averages (MA), moving average differentials (MAD), and normalized MADs (MADN)\n",
    "    MA_df = pd.DataFrame()\n",
    "    MAD_df = pd.DataFrame()\n",
    "    MADN_df = pd.DataFrame()\n",
    "    \n",
    "    # Calculate MA, MAD, and MADN for each period in the period list\n",
    "    for period in period_list:\n",
    "        if history.empty or len(history) < period:  # Check if there is enough data for the given period\n",
    "            MA_df[period] = np.nan\n",
    "            MAD_df[period] = np.nan\n",
    "            MADN_df[period] = np.nan\n",
    "        else:\n",
    "            # Calculate the moving average for the current period and drop NaN values\n",
    "            MA = history.rolling(period).mean().dropna()\n",
    "            MA_df[period] = MA\n",
    "            \n",
    "            # Calculate the moving average differential (change over 5 periods)\n",
    "            MAD = MA.diff(5).dropna()\n",
    "            MAD_df[period] = MAD\n",
    "            \n",
    "            # Normalize the MAD to a 0-100 scale\n",
    "            MADN = 100 * (MAD - MAD.min()) / (MAD.max() - MAD.min())\n",
    "            MADN_df[period] = MADN\n",
    "    \n",
    "    # Calculate the overall grade by averaging the normalized MADs across all periods\n",
    "    GRADE = MADN_df.mean(axis=1)\n",
    "\n",
    "    # Convert MAD values into boolean values (1 if positive, 0 if negative)\n",
    "    BMAD = MAD_df.applymap(lambda x: 0 if x < 0 else 1)\n",
    "    \n",
    "    # Sum the boolean values for short and long periods separately\n",
    "    SBMAD = BMAD[short_period].sum(axis=1)  # Short period Boolean Moving Average Differential\n",
    "    LBMAD = BMAD[long_period].sum(axis=1)   # Long period Boolean Moving Average Differential\n",
    "\n",
    "    # Initialize the GPS Series, which will store categorical labels based on SBMAD and LBMAD values\n",
    "    GPS = pd.Series(index=SBMAD.index)\n",
    "    \n",
    "    # Assign GPS categories based on conditions for SBMAD and LBMAD\n",
    "    for i in SBMAD.index:\n",
    "        if SBMAD[i] >= 2 and LBMAD[i] >= 2:\n",
    "            GPS[i] = 'A'\n",
    "        elif SBMAD[i] < 2 and LBMAD[i] < 2:\n",
    "            GPS[i] = 'B'\n",
    "        elif SBMAD[i] >= 2 and LBMAD[i] < 2:\n",
    "            GPS[i] = 'C'\n",
    "        elif SBMAD[i] < 2 and LBMAD[i] >= 2:\n",
    "            GPS[i] = 'P'\n",
    "    \n",
    "    # Create the output dictionary with summary information for the given date\n",
    "    output = {\n",
    "        'Ticker': history.name,               # Stock ticker or identifier\n",
    "        'Date': date.strftime(\"%d/%m/%Y\"),    # Date in DD/MM/YYYY format\n",
    "        'Grade': GRADE.loc[date].round(0),    # Rounded grade value for the date\n",
    "        'GPS': GPS.loc[date],                 # GPS category for the date\n",
    "        'Price': history.loc[date].round(2),  # Rounded price for the date\n",
    "    }\n",
    "    \n",
    "    # Add the moving averages to the output dictionary, prefixed with \"MA\"\n",
    "    MA = MA_df.loc[date].round(2)\n",
    "    MA.index = MA.index.map(lambda x: f\"MA {x}\")\n",
    "    output = output | MA.to_dict()  # Merge moving averages into the output dictionary\n",
    "    \n",
    "    return output\n"
   ]
  },
  {
   "cell_type": "code",
   "execution_count": 4,
   "metadata": {},
   "outputs": [
    {
     "data": {
      "text/plain": [
       "{'Ticker': 'MC.PA',\n",
       " 'Date': '31/10/2024',\n",
       " 'Grade': 33.0,\n",
       " 'GPS': 'B',\n",
       " 'Price': 609.8,\n",
       " 'MA 5': 623.58,\n",
       " 'MA 10': 621.04,\n",
       " 'MA 20': 632.36,\n",
       " 'MA 50': 637.4,\n",
       " 'MA 100': 659.87,\n",
       " 'MA 200': 724.9}"
      ]
     },
     "execution_count": 4,
     "metadata": {},
     "output_type": "execute_result"
    }
   ],
   "source": [
    "ticker = 'MC.PA'\n",
    "history = yf.Ticker(ticker).history('max')['Close'].tz_localize(None)\n",
    "history.name = ticker\n",
    "eclairys(history, date='31/10/2024')"
   ]
  },
  {
   "cell_type": "code",
   "execution_count": 5,
   "metadata": {},
   "outputs": [
    {
     "data": {
      "application/vnd.jupyter.widget-view+json": {
       "model_id": "9a58a4ce7537479fb0035df2a888acbc",
       "version_major": 2,
       "version_minor": 0
      },
      "text/plain": [
       "VBox(children=(Text(value='MC.PA', description='Ticker:', placeholder='Entrez un ticker'), DatePicker(value=da…"
      ]
     },
     "metadata": {},
     "output_type": "display_data"
    },
    {
     "name": "stdout",
     "output_type": "stream",
     "text": [
      "\n",
      "Résultats de eclairys:\n",
      "Ticker: MC.PA\n",
      "Date: 31/10/2024\n",
      "Grade: 33.0\n",
      "GPS: B\n",
      "Price: 609.8\n",
      "MA 5: 623.58\n",
      "MA 10: 621.04\n",
      "MA 20: 632.36\n",
      "MA 50: 637.4\n",
      "MA 100: 659.87\n",
      "MA 200: 724.9\n"
     ]
    }
   ],
   "source": [
    "# Widget pour entrer le ticker librement\n",
    "ticker_input = widgets.Text(\n",
    "    description='Ticker:',\n",
    "    placeholder='Entrez un ticker',\n",
    "    value='MC.PA'\n",
    ")\n",
    "\n",
    "# Widget pour la sélection de la date\n",
    "date_picker = widgets.DatePicker(\n",
    "    description='Date:',\n",
    "    value=datetime(2024, 10, 31)  # Date par défaut\n",
    ")\n",
    "\n",
    "# Bouton de validation\n",
    "run_button = widgets.Button(description=\"Valider\")\n",
    "\n",
    "# Fonction qui s'exécute lorsque le bouton est cliqué\n",
    "def on_button_click(b):\n",
    "    # Efface les sorties précédentes\n",
    "    clear_output(wait=True)\n",
    "    \n",
    "    # Affiche les widgets de nouveau pour maintenir l'interface\n",
    "    display(VBox([ticker_input, date_picker, run_button]))\n",
    "    \n",
    "    # Récupère la valeur du ticker entrée par l'utilisateur\n",
    "    ticker = ticker_input.value  \n",
    "    # Récupère la date sélectionnée\n",
    "    date = date_picker.value  \n",
    "    \n",
    "    # Récupération de l'historique des prix pour le ticker saisi\n",
    "    history = yf.Ticker(ticker).history(period='max')['Close'].tz_localize(None)\n",
    "    history.name = ticker\n",
    "    \n",
    "    # Formatage de la date pour la fonction eclairys\n",
    "    date_str = date.strftime('%d/%m/%Y')\n",
    "    \n",
    "    # Exécution de la fonction eclairys avec les paramètres sélectionnés\n",
    "    output = eclairys(history, date=date_str)\n",
    "    \n",
    "    # Affichage des résultats\n",
    "    print(\"\\nRésultats de eclairys:\")\n",
    "    for key, value in output.items():\n",
    "        print(f\"{key}: {value}\")\n",
    "\n",
    "# Liaison du bouton avec la fonction de validation\n",
    "run_button.on_click(on_button_click)\n",
    "\n",
    "# Afficher les widgets ensemble\n",
    "display(VBox([ticker_input, date_picker, run_button]))\n"
   ]
  },
  {
   "cell_type": "markdown",
   "metadata": {},
   "source": [
    "## 6. Global results"
   ]
  },
  {
   "cell_type": "code",
   "execution_count": null,
   "metadata": {},
   "outputs": [],
   "source": []
  }
 ],
 "metadata": {
  "kernelspec": {
   "display_name": "Python 3",
   "language": "python",
   "name": "python3"
  },
  "language_info": {
   "codemirror_mode": {
    "name": "ipython",
    "version": 3
   },
   "file_extension": ".py",
   "mimetype": "text/x-python",
   "name": "python",
   "nbconvert_exporter": "python",
   "pygments_lexer": "ipython3",
   "version": "3.12.3"
  }
 },
 "nbformat": 4,
 "nbformat_minor": 2
}
