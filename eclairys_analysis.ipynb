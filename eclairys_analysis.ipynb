{
 "cells": [
  {
   "cell_type": "code",
   "execution_count": 1,
   "metadata": {},
   "outputs": [],
   "source": [
    "import pandas as pd\n",
    "import yfinance as yf\n",
    "from tqdm import tqdm\n",
    "import time\n",
    "import random\n",
    "import numpy as np\n",
    "import os\n",
    "import warnings\n",
    "warnings.filterwarnings(\"ignore\")"
   ]
  },
  {
   "cell_type": "markdown",
   "metadata": {},
   "source": [
    "## 1. Import datas"
   ]
  },
  {
   "cell_type": "code",
   "execution_count": 2,
   "metadata": {},
   "outputs": [],
   "source": [
    "index_df = pd.read_csv(os.getcwd() + '/S&P 500 - 2024.csv', index_col = 'Ticker')"
   ]
  },
  {
   "cell_type": "code",
   "execution_count": null,
   "metadata": {},
   "outputs": [
    {
     "name": "stderr",
     "output_type": "stream",
     "text": [
      "  0%|          | 0/428 [00:00<?, ?it/s]"
     ]
    },
    {
     "name": "stderr",
     "output_type": "stream",
     "text": [
      " 24%|██▍       | 102/428 [08:36<26:35,  4.90s/it]BRK.B: No timezone found, symbol may be delisted\n"
     ]
    },
    {
     "name": "stdout",
     "output_type": "stream",
     "text": [
      "BRK.B\n"
     ]
    },
    {
     "name": "stderr",
     "output_type": "stream",
     "text": [
      "100%|██████████| 428/428 [35:45<00:00,  5.01s/it]\n"
     ]
    }
   ],
   "source": [
    "for ticker in tqdm(index_df.index):\n",
    "    try:\n",
    "        history = yf.Ticker(ticker).history('max')\n",
    "        history = history.resample('B').last().ffill()\n",
    "        history = history.tz_localize(None)\n",
    "        history.to_csv(os.getcwd() + '/history/' + ticker + '.csv')\n",
    "    except:\n",
    "        print(ticker)\n",
    "    time.sleep(random.uniform(3,5))"
   ]
  },
  {
   "cell_type": "code",
   "execution_count": 9,
   "metadata": {},
   "outputs": [
    {
     "name": "stderr",
     "output_type": "stream",
     "text": [
      "100%|██████████| 503/503 [19:09<00:00,  2.28s/it]\n"
     ]
    }
   ],
   "source": [
    "for ticker in tqdm(index_df.index):\n",
    "    try:\n",
    "        cashflow = yf.Ticker(ticker).cashflow\n",
    "        cashflow.to_csv(os.getcwd() + '/cashflow/' + ticker + '.csv')\n",
    "    except:\n",
    "        print(ticker)\n",
    "    time.sleep(random.uniform(1,3))"
   ]
  },
  {
   "cell_type": "code",
   "execution_count": null,
   "metadata": {},
   "outputs": [
    {
     "name": "stderr",
     "output_type": "stream",
     "text": [
      "100%|██████████| 323/323 [22:55<00:00,  4.26s/it]\n"
     ]
    }
   ],
   "source": [
    "for ticker in tqdm(index_df.index):\n",
    "    try:\n",
    "        income_stmt = yf.Ticker(ticker).income_stmt\n",
    "        income_stmt.to_csv(os.getcwd() + '/income_stmt/' + ticker + '.csv')\n",
    "    except:\n",
    "        print(ticker)\n",
    "    time.sleep(random.uniform(3,5))"
   ]
  },
  {
   "cell_type": "code",
   "execution_count": 8,
   "metadata": {},
   "outputs": [
    {
     "name": "stderr",
     "output_type": "stream",
     "text": [
      "100%|██████████| 503/503 [27:51<00:00,  3.32s/it]\n"
     ]
    }
   ],
   "source": [
    "for ticker in tqdm(index_df.index):\n",
    "    try:\n",
    "        balance_sheet = yf.Ticker(ticker).balance_sheet\n",
    "        balance_sheet.to_csv(os.getcwd() + '/balance_sheet/' + ticker + '.csv')\n",
    "    except:\n",
    "        print(ticker)\n",
    "    time.sleep(random.uniform(2,4))"
   ]
  },
  {
   "cell_type": "markdown",
   "metadata": {},
   "source": [
    "## 2. Company size analysis"
   ]
  },
  {
   "cell_type": "code",
   "execution_count": null,
   "metadata": {},
   "outputs": [],
   "source": [
    "total_asset_threshold = 4000000000\n",
    "total_revenue_threshold = 3000000000\n",
    "ticker_list = list(index_df.index)"
   ]
  },
  {
   "cell_type": "code",
   "execution_count": null,
   "metadata": {},
   "outputs": [
    {
     "name": "stderr",
     "output_type": "stream",
     "text": [
      "100%|██████████| 122/122 [00:00<00:00, 507.31it/s]\n"
     ]
    }
   ],
   "source": [
    "company_size_df = pd.DataFrame()\n",
    "for ticker in tqdm(ticker_list):\n",
    "    \n",
    "    total_assets = balance_sheet_df.loc['Total Assets', ticker]\n",
    "    if total_assets > total_asset_threshold:\n",
    "        company_size_df.at[ticker, 'Total Assets'] = True\n",
    "    else:\n",
    "        company_size_df.at[ticker, 'Total Assets'] = False\n",
    "\n",
    "    total_revenue = income_stmt_df.loc['Total Revenue', ticker]\n",
    "    if total_revenue > total_revenue_threshold:\n",
    "        company_size_df.at[ticker, 'Total Revenue'] = True\n",
    "    else:\n",
    "        company_size_df.at[ticker, 'Total Revenue'] = False\n",
    "\n",
    "company_size_selected = list(company_size_df[(company_size_df['Total Assets'] | company_size_df['Total Revenue'])].index)"
   ]
  },
  {
   "cell_type": "markdown",
   "metadata": {},
   "source": [
    "## 3. ESG analysis"
   ]
  },
  {
   "cell_type": "code",
   "execution_count": null,
   "metadata": {},
   "outputs": [],
   "source": []
  },
  {
   "cell_type": "markdown",
   "metadata": {},
   "source": [
    "## 4. Fundamental analysis"
   ]
  },
  {
   "cell_type": "code",
   "execution_count": null,
   "metadata": {},
   "outputs": [],
   "source": []
  },
  {
   "cell_type": "markdown",
   "metadata": {},
   "source": [
    "## 5. Momentum analysis"
   ]
  },
  {
   "cell_type": "code",
   "execution_count": 43,
   "metadata": {},
   "outputs": [],
   "source": [
    "period = 200\n",
    "short_period = [5, 10, 20]\n",
    "long_period = [50, 100, 200]\n",
    "period_list = short_period + long_period\n",
    "ticker_list = index_df = list(pd.read_csv(os.getcwd() + '/S&P 500 - 2024.csv', index_col = 'Ticker').index)"
   ]
  },
  {
   "cell_type": "code",
   "execution_count": 21,
   "metadata": {},
   "outputs": [
    {
     "name": "stderr",
     "output_type": "stream",
     "text": [
      "100%|██████████| 503/503 [00:10<00:00, 49.10it/s]\n"
     ]
    }
   ],
   "source": [
    "history_df = pd.DataFrame()\n",
    "for ticker in tqdm(ticker_list):\n",
    "    history_df[ticker] = pd.read_csv(os.getcwd() + f'/history/{ticker}.csv', index_col='Date')['Close']"
   ]
  },
  {
   "cell_type": "code",
   "execution_count": 52,
   "metadata": {},
   "outputs": [
    {
     "name": "stderr",
     "output_type": "stream",
     "text": [
      "100%|██████████| 503/503 [00:04<00:00, 104.19it/s]\n"
     ]
    }
   ],
   "source": [
    "MAD_df = pd.DataFrame()\n",
    "MADN_df = pd.DataFrame()\n",
    "\n",
    "for ticker in tqdm(ticker_list):\n",
    "    history = history_df[ticker].dropna()\n",
    "    if history.empty or len(history) < max(period_list):\n",
    "        for period in period_list:\n",
    "            MAD_df.at[ticker, period] = np.nan\n",
    "            MADN_df.at[ticker, period] = np.nan\n",
    "    else:\n",
    "        for period in period_list:\n",
    "            MA = history.rolling(period).mean().dropna() # Moving average\n",
    "            MAD = MA.diff(5).dropna() # Moving average differential\n",
    "            MAD_df.at[ticker, period] = MAD.iloc[-1]\n",
    "            MADN = 100 * (MAD - MAD.min()) / (MAD.max() - MAD.min()) # Moving average differential normalized\n",
    "            MADN_df.at[ticker, period] = MADN.iloc[-1]"
   ]
  },
  {
   "cell_type": "code",
   "execution_count": 53,
   "metadata": {},
   "outputs": [
    {
     "name": "stderr",
     "output_type": "stream",
     "text": [
      "100%|██████████| 503/503 [00:00<00:00, 1981.76it/s]\n"
     ]
    }
   ],
   "source": [
    "BMAD_df = MAD_df.applymap(lambda x: 0 if x < 0 else 1)\n",
    "SBMAD_df = BMAD_df[short_period].sum(axis=1)\n",
    "LBMAD_df = BMAD_df[long_period].sum(axis=1)\n",
    "GPS_df = pd.Series()\n",
    "for ticker in tqdm(ticker_list):\n",
    "    SBMAD = SBMAD_df[ticker]\n",
    "    LBMAD = LBMAD_df[ticker]\n",
    "    if SBMAD >= 2 and LBMAD >= 2:\n",
    "        GPS_df[ticker] = 'A'\n",
    "    elif SBMAD < 2 and LBMAD < 2:\n",
    "        GPS_df[ticker] = 'B'\n",
    "    elif SBMAD >= 2 and LBMAD < 2:\n",
    "        GPS_df[ticker] = 'C'\n",
    "    elif SBMAD < 2 and LBMAD >= 2:\n",
    "        GPS_df[ticker] = 'P'"
   ]
  },
  {
   "cell_type": "code",
   "execution_count": 56,
   "metadata": {},
   "outputs": [
    {
     "data": {
      "text/plain": [
       "VZ       P\n",
       "T        A\n",
       "LYV      A\n",
       "WBD      A\n",
       "EA       A\n",
       "TTWO     A\n",
       "DIS      P\n",
       "NFLX     A\n",
       "META     P\n",
       "MTCH     B\n",
       "GOOG     A\n",
       "GOOGL    A\n",
       "CHTR     C\n",
       "CMCSA    A\n",
       "FOX      A\n",
       "OMC      P\n",
       "FOXA     P\n",
       "IPG      B\n",
       "NWSA     C\n",
       "PARA     C\n",
       "NWS      A\n",
       "TMUS     A\n",
       "APTV     B\n",
       "BWA      P\n",
       "TSLA     A\n",
       "GM       A\n",
       "F        B\n",
       "EBAY     P\n",
       "AMZN     A\n",
       "LKQ      B\n",
       "POOL     P\n",
       "GPC      B\n",
       "DRI      P\n",
       "HLT      A\n",
       "NCLH     A\n",
       "CZR      P\n",
       "SBUX     A\n",
       "MGM      B\n",
       "LVS      A\n",
       "MCD      P\n",
       "BKNG     A\n",
       "CMG      P\n",
       "ABNB     C\n",
       "CCL      A\n",
       "RCL      A\n",
       "YUM      B\n",
       "MAR      A\n",
       "EXPE     A\n",
       "WYNN     P\n",
       "DPZ      B\n",
       "dtype: object"
      ]
     },
     "execution_count": 56,
     "metadata": {},
     "output_type": "execute_result"
    }
   ],
   "source": [
    "GPS_df.head(50)"
   ]
  },
  {
   "cell_type": "code",
   "execution_count": 54,
   "metadata": {},
   "outputs": [
    {
     "data": {
      "text/html": [
       "<div>\n",
       "<style scoped>\n",
       "    .dataframe tbody tr th:only-of-type {\n",
       "        vertical-align: middle;\n",
       "    }\n",
       "\n",
       "    .dataframe tbody tr th {\n",
       "        vertical-align: top;\n",
       "    }\n",
       "\n",
       "    .dataframe thead th {\n",
       "        text-align: right;\n",
       "    }\n",
       "</style>\n",
       "<table border=\"1\" class=\"dataframe\">\n",
       "  <thead>\n",
       "    <tr style=\"text-align: right;\">\n",
       "      <th></th>\n",
       "      <th>5</th>\n",
       "      <th>10</th>\n",
       "      <th>20</th>\n",
       "      <th>50</th>\n",
       "      <th>100</th>\n",
       "      <th>200</th>\n",
       "    </tr>\n",
       "  </thead>\n",
       "  <tbody>\n",
       "    <tr>\n",
       "      <th>VZ</th>\n",
       "      <td>51.555534</td>\n",
       "      <td>34.468555</td>\n",
       "      <td>23.736596</td>\n",
       "      <td>65.621588</td>\n",
       "      <td>68.130256</td>\n",
       "      <td>60.905190</td>\n",
       "    </tr>\n",
       "    <tr>\n",
       "      <th>T</th>\n",
       "      <td>61.113491</td>\n",
       "      <td>66.809047</td>\n",
       "      <td>64.459486</td>\n",
       "      <td>93.602724</td>\n",
       "      <td>97.785940</td>\n",
       "      <td>97.290327</td>\n",
       "    </tr>\n",
       "    <tr>\n",
       "      <th>LYV</th>\n",
       "      <td>62.173213</td>\n",
       "      <td>64.886823</td>\n",
       "      <td>77.216625</td>\n",
       "      <td>86.229612</td>\n",
       "      <td>85.965654</td>\n",
       "      <td>80.499102</td>\n",
       "    </tr>\n",
       "    <tr>\n",
       "      <th>WBD</th>\n",
       "      <td>74.779200</td>\n",
       "      <td>67.321422</td>\n",
       "      <td>58.634376</td>\n",
       "      <td>50.989835</td>\n",
       "      <td>45.929402</td>\n",
       "      <td>46.900771</td>\n",
       "    </tr>\n",
       "    <tr>\n",
       "      <th>EA</th>\n",
       "      <td>62.802403</td>\n",
       "      <td>58.880615</td>\n",
       "      <td>60.740130</td>\n",
       "      <td>53.918990</td>\n",
       "      <td>64.833341</td>\n",
       "      <td>61.613686</td>\n",
       "    </tr>\n",
       "    <tr>\n",
       "      <th>...</th>\n",
       "      <td>...</td>\n",
       "      <td>...</td>\n",
       "      <td>...</td>\n",
       "      <td>...</td>\n",
       "      <td>...</td>\n",
       "      <td>...</td>\n",
       "    </tr>\n",
       "    <tr>\n",
       "      <th>SRE</th>\n",
       "      <td>56.363108</td>\n",
       "      <td>64.446847</td>\n",
       "      <td>68.915191</td>\n",
       "      <td>65.160806</td>\n",
       "      <td>65.141571</td>\n",
       "      <td>73.077081</td>\n",
       "    </tr>\n",
       "    <tr>\n",
       "      <th>AEE</th>\n",
       "      <td>45.228678</td>\n",
       "      <td>59.151411</td>\n",
       "      <td>58.800088</td>\n",
       "      <td>69.539096</td>\n",
       "      <td>97.103092</td>\n",
       "      <td>97.543452</td>\n",
       "    </tr>\n",
       "    <tr>\n",
       "      <th>DTE</th>\n",
       "      <td>39.444673</td>\n",
       "      <td>58.090057</td>\n",
       "      <td>61.666309</td>\n",
       "      <td>66.765190</td>\n",
       "      <td>75.864272</td>\n",
       "      <td>89.048413</td>\n",
       "    </tr>\n",
       "    <tr>\n",
       "      <th>NI</th>\n",
       "      <td>63.515949</td>\n",
       "      <td>74.010265</td>\n",
       "      <td>68.672318</td>\n",
       "      <td>74.771292</td>\n",
       "      <td>100.000000</td>\n",
       "      <td>99.641205</td>\n",
       "    </tr>\n",
       "    <tr>\n",
       "      <th>AWK</th>\n",
       "      <td>49.347826</td>\n",
       "      <td>52.808952</td>\n",
       "      <td>40.177814</td>\n",
       "      <td>47.777898</td>\n",
       "      <td>60.954023</td>\n",
       "      <td>69.097271</td>\n",
       "    </tr>\n",
       "  </tbody>\n",
       "</table>\n",
       "<p>503 rows × 6 columns</p>\n",
       "</div>"
      ],
      "text/plain": [
       "           5          10         20         50          100        200\n",
       "VZ   51.555534  34.468555  23.736596  65.621588   68.130256  60.905190\n",
       "T    61.113491  66.809047  64.459486  93.602724   97.785940  97.290327\n",
       "LYV  62.173213  64.886823  77.216625  86.229612   85.965654  80.499102\n",
       "WBD  74.779200  67.321422  58.634376  50.989835   45.929402  46.900771\n",
       "EA   62.802403  58.880615  60.740130  53.918990   64.833341  61.613686\n",
       "..         ...        ...        ...        ...         ...        ...\n",
       "SRE  56.363108  64.446847  68.915191  65.160806   65.141571  73.077081\n",
       "AEE  45.228678  59.151411  58.800088  69.539096   97.103092  97.543452\n",
       "DTE  39.444673  58.090057  61.666309  66.765190   75.864272  89.048413\n",
       "NI   63.515949  74.010265  68.672318  74.771292  100.000000  99.641205\n",
       "AWK  49.347826  52.808952  40.177814  47.777898   60.954023  69.097271\n",
       "\n",
       "[503 rows x 6 columns]"
      ]
     },
     "execution_count": 54,
     "metadata": {},
     "output_type": "execute_result"
    }
   ],
   "source": [
    "MADN_df"
   ]
  },
  {
   "cell_type": "code",
   "execution_count": null,
   "metadata": {},
   "outputs": [],
   "source": []
  },
  {
   "cell_type": "markdown",
   "metadata": {},
   "source": [
    "## 6. Global results"
   ]
  },
  {
   "cell_type": "code",
   "execution_count": null,
   "metadata": {},
   "outputs": [],
   "source": []
  }
 ],
 "metadata": {
  "kernelspec": {
   "display_name": "Python 3",
   "language": "python",
   "name": "python3"
  },
  "language_info": {
   "codemirror_mode": {
    "name": "ipython",
    "version": 3
   },
   "file_extension": ".py",
   "mimetype": "text/x-python",
   "name": "python",
   "nbconvert_exporter": "python",
   "pygments_lexer": "ipython3",
   "version": "3.12.3"
  }
 },
 "nbformat": 4,
 "nbformat_minor": 2
}
