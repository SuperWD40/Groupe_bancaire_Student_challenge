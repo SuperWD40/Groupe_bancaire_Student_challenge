{
 "cells": [
  {
   "cell_type": "code",
   "execution_count": null,
   "metadata": {},
   "outputs": [],
   "source": [
    "import numpy as np\n",
    "import pandas as pd\n",
    "import matplotlib.pyplot as plt\n",
    "import ipywidgets as widgets\n",
    "from IPython.display import display"
   ]
  },
  {
   "cell_type": "code",
   "execution_count": null,
   "metadata": {},
   "outputs": [],
   "source": [
    "# Function for simulating Geometric Brownian Motion\n",
    "def gbm(n_years=10, n_scenarios=1000, mu=0.07, sigma=0.15, steps_per_year=12, s_0=100.0, prices=True):\n",
    "    dt = 1 / steps_per_year\n",
    "    n_steps = int(n_years * steps_per_year) + 1\n",
    "    rets_plus_1 = np.random.normal(loc=(1 + mu)**dt, scale=(sigma * np.sqrt(dt)), size=(n_steps, n_scenarios))\n",
    "    rets_plus_1[0] = 1\n",
    "    prices = s_0 * pd.DataFrame(rets_plus_1).cumprod() if prices else rets_plus_1 - 1\n",
    "    return prices\n",
    "\n",
    "# Function for applying the CPPI strategy\n",
    "def cppi(gbm_sim, floor=80, multiplier=3, risk_free_rate=0.02, rebalance_per_year=12):\n",
    "    n_steps, n_scenarios = gbm_sim.shape\n",
    "    \n",
    "    # Calculer le nombre d'étapes entre les rééquilibrages\n",
    "    steps_per_rebalance = max(1, int(gbm_sim.index.size / (rebalance_per_year * (gbm_sim.index[-1] / 12))))\n",
    "    \n",
    "    account_value = pd.DataFrame(index=gbm_sim.index, columns=gbm_sim.columns)\n",
    "    cushion = pd.DataFrame(index=gbm_sim.index, columns=gbm_sim.columns)\n",
    "    risky_weight = pd.DataFrame(index=gbm_sim.index, columns=gbm_sim.columns)\n",
    "    \n",
    "    account_value.iloc[0] = gbm_sim.iloc[0]\n",
    "    \n",
    "    for step in range(1, n_steps):\n",
    "        # Vérifier si c'est un moment de rééquilibrage\n",
    "        if step % steps_per_rebalance == 0:\n",
    "            cushion.iloc[step - 1] = np.maximum(account_value.iloc[step - 1] - floor, 0)\n",
    "            risky_weight.iloc[step - 1] = multiplier * cushion.iloc[step - 1] / account_value.iloc[step - 1]\n",
    "            risky_weight.iloc[step - 1] = np.clip(risky_weight.iloc[step - 1], 0, 1)\n",
    "        else:\n",
    "            risky_weight.iloc[step - 1] = risky_weight.iloc[step - 2] if step > 1 else 0\n",
    "        \n",
    "        safe_weight = 1 - risky_weight.iloc[step - 1]\n",
    "        account_value.iloc[step] = (\n",
    "            account_value.iloc[step - 1] * \n",
    "            (risky_weight.iloc[step - 1] * (gbm_sim.iloc[step] / gbm_sim.iloc[step - 1]) +\n",
    "             safe_weight * (1 + risk_free_rate / rebalance_per_year))\n",
    "        )\n",
    "    \n",
    "    return account_value"
   ]
  },
  {
   "cell_type": "code",
   "execution_count": null,
   "metadata": {},
   "outputs": [
    {
     "data": {
      "application/vnd.jupyter.widget-view+json": {
       "model_id": "272522951ce3474ca37dabf640c1d031",
       "version_major": 2,
       "version_minor": 0
      },
      "text/plain": [
       "IntSlider(value=5, description='Years', max=20, min=1)"
      ]
     },
     "metadata": {},
     "output_type": "display_data"
    },
    {
     "data": {
      "application/vnd.jupyter.widget-view+json": {
       "model_id": "47039c69935b403a8809d0e58f4fe690",
       "version_major": 2,
       "version_minor": 0
      },
      "text/plain": [
       "IntSlider(value=100, description='Scenarios', max=1000, min=10, step=10)"
      ]
     },
     "metadata": {},
     "output_type": "display_data"
    },
    {
     "data": {
      "application/vnd.jupyter.widget-view+json": {
       "model_id": "6edf0d4986f54d7dab549ee05514967a",
       "version_major": 2,
       "version_minor": 0
      },
      "text/plain": [
       "FloatSlider(value=0.07, description='Mu', max=0.2, step=0.01)"
      ]
     },
     "metadata": {},
     "output_type": "display_data"
    },
    {
     "data": {
      "application/vnd.jupyter.widget-view+json": {
       "model_id": "1a5564f9fa634363bc49c57e24ba718e",
       "version_major": 2,
       "version_minor": 0
      },
      "text/plain": [
       "FloatSlider(value=0.15, description='Sigma', max=0.5, step=0.01)"
      ]
     },
     "metadata": {},
     "output_type": "display_data"
    },
    {
     "data": {
      "application/vnd.jupyter.widget-view+json": {
       "model_id": "f4c5e38bb0f840e696393e89ca3c8969",
       "version_major": 2,
       "version_minor": 0
      },
      "text/plain": [
       "IntSlider(value=255, description='Steps/Year', max=365, min=12)"
      ]
     },
     "metadata": {},
     "output_type": "display_data"
    },
    {
     "data": {
      "application/vnd.jupyter.widget-view+json": {
       "model_id": "537660a18fac4f788fdee417368d005f",
       "version_major": 2,
       "version_minor": 0
      },
      "text/plain": [
       "FloatSlider(value=100.0, description='Initial Price', max=500.0, min=50.0, step=10.0)"
      ]
     },
     "metadata": {},
     "output_type": "display_data"
    },
    {
     "data": {
      "application/vnd.jupyter.widget-view+json": {
       "model_id": "010d05d816a441d98af3f77419b542cf",
       "version_major": 2,
       "version_minor": 0
      },
      "text/plain": [
       "FloatSlider(value=90.0, description='Floor', min=50.0, step=1.0)"
      ]
     },
     "metadata": {},
     "output_type": "display_data"
    },
    {
     "data": {
      "application/vnd.jupyter.widget-view+json": {
       "model_id": "399cf95691854c3fb8a9bd716149d48f",
       "version_major": 2,
       "version_minor": 0
      },
      "text/plain": [
       "IntSlider(value=4, description='Multiplier', max=10, min=1)"
      ]
     },
     "metadata": {},
     "output_type": "display_data"
    },
    {
     "data": {
      "application/vnd.jupyter.widget-view+json": {
       "model_id": "a25483b3b6a043a09684f004891f104c",
       "version_major": 2,
       "version_minor": 0
      },
      "text/plain": [
       "FloatSlider(value=0.04, description='Risk-free Rate', max=0.1, step=0.01)"
      ]
     },
     "metadata": {},
     "output_type": "display_data"
    },
    {
     "data": {
      "application/vnd.jupyter.widget-view+json": {
       "model_id": "6c811ec3513642e28582b7e2772ef507",
       "version_major": 2,
       "version_minor": 0
      },
      "text/plain": [
       "IntSlider(value=10, description='Rebalance/Year', max=255, min=1)"
      ]
     },
     "metadata": {},
     "output_type": "display_data"
    },
    {
     "data": {
      "application/vnd.jupyter.widget-view+json": {
       "model_id": "87424121f46c4b63a50c8bf1c3914a65",
       "version_major": 2,
       "version_minor": 0
      },
      "text/plain": [
       "Button(button_style='success', description='Run Simulation', style=ButtonStyle())"
      ]
     },
     "metadata": {},
     "output_type": "display_data"
    },
    {
     "data": {
      "application/vnd.jupyter.widget-view+json": {
       "model_id": "ffde642407c14e948f51a5cf8998a2ad",
       "version_major": 2,
       "version_minor": 0
      },
      "text/plain": [
       "Output()"
      ]
     },
     "metadata": {},
     "output_type": "display_data"
    }
   ],
   "source": [
    "# Interactive widgets\n",
    "n_years_widget = widgets.IntSlider(value=5, min=1, max=20, step=1, description='Years')\n",
    "n_scenarios_widget = widgets.IntSlider(value=100, min=10, max=1000, step=10, description='Scenarios')\n",
    "mu_widget = widgets.FloatSlider(value=0.07, min=0.0, max=0.2, step=0.01, description='Mu')\n",
    "sigma_widget = widgets.FloatSlider(value=0.15, min=0.0, max=0.5, step=0.01, description='Sigma')\n",
    "steps_per_year_widget = widgets.IntSlider(value=255, min=12, max=365, step=1, description='Steps/Year')\n",
    "s_0_widget = widgets.FloatSlider(value=100, min=50, max=500, step=10, description='Initial Price')\n",
    "\n",
    "floor_widget = widgets.FloatSlider(value=90, min=50, max=100, step=1, description='Floor')\n",
    "multiplier_widget = widgets.IntSlider(value=4, min=1, max=10, step=1, description='Multiplier')\n",
    "rf_rate_widget = widgets.FloatSlider(value=0.04, min=0.0, max=0.1, step=0.01, description='Risk-free Rate')\n",
    "rebalance_widget = widgets.IntSlider(value=10, min=1, max=255, step=1, description='Rebalance/Year')\n",
    "\n",
    "# Button to run the simulation\n",
    "run_button = widgets.Button(description=\"Run Simulation\", button_style='success')\n",
    "\n",
    "# Output widget to display results\n",
    "output = widgets.Output()\n",
    "\n",
    "# Function to run the simulation and plot results\n",
    "def run_simulation(event):\n",
    "    with output:\n",
    "        output.clear_output()\n",
    "        \n",
    "        # Récupérer les valeurs des widgets\n",
    "        n_years = n_years_widget.value\n",
    "        n_scenarios = n_scenarios_widget.value\n",
    "        mu = mu_widget.value\n",
    "        sigma = sigma_widget.value\n",
    "        steps_per_year = steps_per_year_widget.value\n",
    "        s_0 = s_0_widget.value\n",
    "        \n",
    "        floor = floor_widget.value\n",
    "        multiplier = multiplier_widget.value\n",
    "        rf_rate = rf_rate_widget.value\n",
    "        rebalance_per_year = rebalance_widget.value\n",
    "        \n",
    "        # Exécuter la simulation GBM\n",
    "        gbm_sim = gbm(n_years=n_years, n_scenarios=n_scenarios, mu=mu, sigma=sigma,\n",
    "                      steps_per_year=steps_per_year, s_0=s_0)\n",
    "        \n",
    "        # Appliquer la stratégie CPPI\n",
    "        portfolio_values = cppi(gbm_sim, floor=floor, multiplier=multiplier, \n",
    "                                risk_free_rate=rf_rate, rebalance_per_year=rebalance_per_year)\n",
    "        \n",
    "        # Calculer la moyenne du portefeuille CPPI\n",
    "        cppi_mean = portfolio_values.mean(axis=1)\n",
    "        \n",
    "        # Tracer les résultats\n",
    "        plt.figure(figsize=(16, 8))\n",
    "        \n",
    "        # Tracer chaque simulation en gris\n",
    "        plt.plot(portfolio_values, color='grey', linewidth=0.5, alpha=0.25)\n",
    "        \n",
    "        # Tracer la ligne du floor\n",
    "        plt.axhline(y=floor, linestyle='--', color='red', label='Floor')\n",
    "        \n",
    "        # Tracer la moyenne du portefeuille CPPI\n",
    "        plt.plot(cppi_mean, color='blue', alpha=0.75, label='CPPI Portfolio (Mean)')\n",
    "        \n",
    "        # Personnaliser le graphique\n",
    "        plt.title(\"CPPI Strategy Simulation\")\n",
    "        plt.xlabel(\"Time Steps\")\n",
    "        plt.ylabel(\"Portfolio Value\")\n",
    "        plt.grid(True)\n",
    "        plt.legend()\n",
    "        plt.show()\n",
    "\n",
    "# Bind the button to the function\n",
    "run_button.on_click(run_simulation)\n",
    "\n",
    "# Display the widgets\n",
    "display(\n",
    "    n_years_widget, n_scenarios_widget, mu_widget, sigma_widget,\n",
    "    steps_per_year_widget, s_0_widget,\n",
    "    floor_widget, multiplier_widget, rf_rate_widget, rebalance_widget,\n",
    "    run_button, output\n",
    ")"
   ]
  },
  {
   "cell_type": "code",
   "execution_count": null,
   "metadata": {},
   "outputs": [],
   "source": []
  }
 ],
 "metadata": {
  "kernelspec": {
   "display_name": "Python 3",
   "language": "python",
   "name": "python3"
  },
  "language_info": {
   "codemirror_mode": {
    "name": "ipython",
    "version": 3
   },
   "file_extension": ".py",
   "mimetype": "text/x-python",
   "name": "python",
   "nbconvert_exporter": "python",
   "pygments_lexer": "ipython3",
   "version": "3.12.3"
  }
 },
 "nbformat": 4,
 "nbformat_minor": 2
}
