{
 "cells": [
  {
   "cell_type": "code",
   "execution_count": 1,
   "metadata": {},
   "outputs": [],
   "source": [
    "import numpy as np\n",
    "import pandas as pd\n",
    "import matplotlib.pyplot as plt\n",
    "import ipywidgets as widgets\n",
    "from IPython.display import display"
   ]
  },
  {
   "cell_type": "code",
   "execution_count": 2,
   "metadata": {},
   "outputs": [],
   "source": [
    "def gbm(n_steps=255, n_scenarios=1000, mu=0.07, sigma=0.15, s_0=100.0, prices=True):\n",
    "    # Calculate the time step size (dt) as a fraction of the total period\n",
    "    dt = 1 / n_steps\n",
    "    # Add an extra step to include the initial value\n",
    "    n_steps = int(n_steps) + 1\n",
    "    \n",
    "    # Generate random returns using a normal distribution\n",
    "    # loc = (1 + mu)**dt is the mean, scale = (sigma * sqrt(dt)) is the standard deviation\n",
    "    rets_plus_1 = np.random.normal(loc=(1 + mu)**dt, scale=(sigma * np.sqrt(dt)), size=(n_steps, n_scenarios))\n",
    "    \n",
    "    # Set the first row (initial returns) to 1 since no returns are accumulated initially\n",
    "    rets_plus_1[0] = 1\n",
    "    \n",
    "    # Calculate cumulative product of returns to get the price paths\n",
    "    prices = s_0 * pd.DataFrame(rets_plus_1).cumprod() if prices else rets_plus_1 - 1\n",
    "    return prices\n",
    "\n",
    "def cppi(gbm_sim, floor=80, multiplier=3, risk_free_rate=0.02, n_rebalance=10):\n",
    "    # Get the number of time steps from the simulation data\n",
    "    n_steps = gbm_sim.index.size\n",
    "\n",
    "    # Calculate the steps between rebalances\n",
    "    # If only one rebalance is required, do it halfway through the period\n",
    "    if n_rebalance == 1:\n",
    "        steps_per_rebalance = int(n_steps / 2)\n",
    "    else:\n",
    "        # Otherwise, calculate steps per rebalance based on the specified number of rebalances per year\n",
    "        steps_per_rebalance = max(1, int(n_steps / n_rebalance))\n",
    "\n",
    "    # Initialize DataFrames to store account value, cushion, and risky weights\n",
    "    account_value = pd.DataFrame(index=gbm_sim.index, columns=gbm_sim.columns)\n",
    "    cushion = pd.DataFrame(index=gbm_sim.index, columns=gbm_sim.columns)\n",
    "    risky_weight = pd.DataFrame(index=gbm_sim.index, columns=gbm_sim.columns)\n",
    "    \n",
    "    # Set the initial account value to the initial price from the GBM simulation\n",
    "    account_value.iloc[0] = gbm_sim.iloc[0]\n",
    "    \n",
    "    # Loop through each time step to update the portfolio\n",
    "    for step in range(1, n_steps):\n",
    "        # Check if it's time to rebalance or if it's the first step\n",
    "        if step % steps_per_rebalance == 0 or step == 1:\n",
    "            # Calculate the cushion (difference between account value and the floor)\n",
    "            cushion.iloc[step - 1] = np.maximum(account_value.iloc[step - 1] - floor, 0)\n",
    "            \n",
    "            # Determine the proportion to invest in the risky asset based on the cushion\n",
    "            risky_weight.iloc[step - 1] = multiplier * cushion.iloc[step - 1] / account_value.iloc[step - 1]\n",
    "            \n",
    "            # Ensure the risky weight is between 0 and 1\n",
    "            risky_weight.iloc[step - 1] = np.clip(risky_weight.iloc[step - 1], 0, 1)\n",
    "        else:\n",
    "            # If not rebalancing, carry forward the previous weight\n",
    "            risky_weight.iloc[step - 1] = risky_weight.iloc[step - 2] if step > 1 else 0\n",
    "        \n",
    "        # Calculate the safe asset weight as the complement of the risky weight\n",
    "        safe_weight = 1 - risky_weight.iloc[step - 1]\n",
    "        \n",
    "        # Update the account value based on returns from risky and safe assets\n",
    "        account_value.iloc[step] = (\n",
    "            account_value.iloc[step - 1] * \n",
    "            (\n",
    "                risky_weight.iloc[step - 1] * (gbm_sim.iloc[step] / gbm_sim.iloc[step - 1]) + \n",
    "                safe_weight * np.exp(risk_free_rate / 360)\n",
    "            )\n",
    "        )\n",
    "    \n",
    "    return account_value\n"
   ]
  },
  {
   "cell_type": "code",
   "execution_count": 18,
   "metadata": {},
   "outputs": [
    {
     "data": {
      "application/vnd.jupyter.widget-view+json": {
       "model_id": "f3c96a8915924bde93ea5442d3ee9184",
       "version_major": 2,
       "version_minor": 0
      },
      "text/plain": [
       "IntSlider(value=90, description='Steps', max=255, min=25)"
      ]
     },
     "metadata": {},
     "output_type": "display_data"
    },
    {
     "data": {
      "application/vnd.jupyter.widget-view+json": {
       "model_id": "ad18fbf80f754a3486009810c5b51245",
       "version_major": 2,
       "version_minor": 0
      },
      "text/plain": [
       "IntSlider(value=100, description='Scenarios', max=1000, min=10, step=10)"
      ]
     },
     "metadata": {},
     "output_type": "display_data"
    },
    {
     "data": {
      "application/vnd.jupyter.widget-view+json": {
       "model_id": "69882dad5c8941f18cb14e820eabcd99",
       "version_major": 2,
       "version_minor": 0
      },
      "text/plain": [
       "FloatSlider(value=0.05, description='Mu', max=0.2, step=0.01)"
      ]
     },
     "metadata": {},
     "output_type": "display_data"
    },
    {
     "data": {
      "application/vnd.jupyter.widget-view+json": {
       "model_id": "f442d6442f47467993de3f2e1c913482",
       "version_major": 2,
       "version_minor": 0
      },
      "text/plain": [
       "FloatSlider(value=0.2, description='Sigma', max=0.5, step=0.01)"
      ]
     },
     "metadata": {},
     "output_type": "display_data"
    },
    {
     "data": {
      "application/vnd.jupyter.widget-view+json": {
       "model_id": "ace43b86e2db46dbbaff4f89e3a2e51d",
       "version_major": 2,
       "version_minor": 0
      },
      "text/plain": [
       "FloatSlider(value=90.0, description='Floor', min=50.0, step=1.0)"
      ]
     },
     "metadata": {},
     "output_type": "display_data"
    },
    {
     "data": {
      "application/vnd.jupyter.widget-view+json": {
       "model_id": "39ba3d72cbd14ec18421eab0f3f52ee9",
       "version_major": 2,
       "version_minor": 0
      },
      "text/plain": [
       "IntSlider(value=3, description='Multiplier', max=10, min=1)"
      ]
     },
     "metadata": {},
     "output_type": "display_data"
    },
    {
     "data": {
      "application/vnd.jupyter.widget-view+json": {
       "model_id": "3641566d679f424097a78e7c848443f3",
       "version_major": 2,
       "version_minor": 0
      },
      "text/plain": [
       "FloatSlider(value=0.05, description='Risk-free', max=0.1, step=0.01)"
      ]
     },
     "metadata": {},
     "output_type": "display_data"
    },
    {
     "data": {
      "application/vnd.jupyter.widget-view+json": {
       "model_id": "b4cb6d7edc124c0f9b90f39af02fa106",
       "version_major": 2,
       "version_minor": 0
      },
      "text/plain": [
       "IntSlider(value=12, description='Rebalance', max=255, min=1)"
      ]
     },
     "metadata": {},
     "output_type": "display_data"
    },
    {
     "data": {
      "application/vnd.jupyter.widget-view+json": {
       "model_id": "872d44473f834ea4bc13094680c108dd",
       "version_major": 2,
       "version_minor": 0
      },
      "text/plain": [
       "Button(button_style='success', description='Run Simulation', style=ButtonStyle())"
      ]
     },
     "metadata": {},
     "output_type": "display_data"
    },
    {
     "data": {
      "application/vnd.jupyter.widget-view+json": {
       "model_id": "b1b6fb8e52234ba38b5fdaad0eed36b3",
       "version_major": 2,
       "version_minor": 0
      },
      "text/plain": [
       "Output()"
      ]
     },
     "metadata": {},
     "output_type": "display_data"
    }
   ],
   "source": [
    "# Interactive widgets\n",
    "n_steps_widget = widgets.IntSlider(value=90, min=25, max=255, step=1, description='Steps')\n",
    "n_scenarios_widget = widgets.IntSlider(value=100, min=10, max=1000, step=10, description='Scenarios')\n",
    "mu_widget = widgets.FloatSlider(value=0.05, min=0.0, max=0.2, step=0.01, description='Mu')\n",
    "sigma_widget = widgets.FloatSlider(value=0.20, min=0.0, max=0.5, step=0.01, description='Sigma')\n",
    "\n",
    "floor_widget = widgets.FloatSlider(value=90, min=50, max=100, step=1, description='Floor')\n",
    "multiplier_widget = widgets.IntSlider(value=3, min=1, max=10, step=1, description='Multiplier')\n",
    "rf_rate_widget = widgets.FloatSlider(value=0.05, min=0.0, max=0.1, step=0.01, description='Risk-free')\n",
    "n_rebalance_widget = widgets.IntSlider(value=12, min=1, max=255, step=1, description='Rebalance')\n",
    "\n",
    "# Button to run the simulation\n",
    "run_button = widgets.Button(description=\"Run Simulation\", button_style='success')\n",
    "\n",
    "# Output widget to display results\n",
    "output = widgets.Output()\n",
    "\n",
    "# Function to run the simulation and plot results\n",
    "def run_simulation(event):\n",
    "    with output:\n",
    "        output.clear_output()\n",
    "        \n",
    "        # Récupérer les valeurs des widgets\n",
    "        n_steps = n_steps_widget.value\n",
    "        n_scenarios = n_scenarios_widget.value\n",
    "        mu = mu_widget.value\n",
    "        sigma = sigma_widget.value\n",
    "        s_0 = 100\n",
    "        \n",
    "        floor = floor_widget.value\n",
    "        multiplier = multiplier_widget.value\n",
    "        rf_rate = rf_rate_widget.value\n",
    "        n_rebalance = n_rebalance_widget.value\n",
    "        \n",
    "        # Exécuter la simulation GBM\n",
    "        gbm_sim = gbm(\n",
    "            n_steps=n_steps, \n",
    "            n_scenarios=n_scenarios, \n",
    "            mu=mu, \n",
    "            sigma=sigma, \n",
    "            s_0=s_0,\n",
    "            prices=True\n",
    "        )\n",
    "        \n",
    "        # Appliquer la stratégie CPPI\n",
    "        portfolio_values = cppi(\n",
    "            gbm_sim, \n",
    "            floor=floor, \n",
    "            multiplier=multiplier, \n",
    "            risk_free_rate=rf_rate, \n",
    "            n_rebalance=n_rebalance\n",
    "        )\n",
    "\n",
    "        # Calculer la moyenne et l'écart-type du portefeuille CPPI\n",
    "        cppi_mean = portfolio_values.mean(axis=1)\n",
    "        cppi_std = portfolio_values.std(axis=1)\n",
    "        \n",
    "        # Calculer 2 fois l'écart-type au-dessus et en-dessous de la moyenne\n",
    "        upper_bound = cppi_mean + cppi_std\n",
    "        lower_bound = cppi_mean - cppi_std\n",
    "        \n",
    "        # Calculer la moyenne du portefeuille CPPI\n",
    "        cppi_mean = portfolio_values.mean(axis=1)\n",
    "        \n",
    "        # Tracer les résultats\n",
    "        plt.figure(figsize=(14, 7))\n",
    "        \n",
    "        # Tracer chaque simulation en gris\n",
    "        plt.plot(portfolio_values, color='grey', linewidth=0.5, alpha=0.25)\n",
    "        \n",
    "        # Tracer la ligne du floor\n",
    "        plt.axhline(y=floor, linestyle='--', color='red', label='Floor')\n",
    "        \n",
    "        # Tracer la moyenne du portefeuille CPPI\n",
    "        plt.plot(cppi_mean, color='blue', alpha=0.75, label='CPPI Portfolio (Mean)')\n",
    "\n",
    "        # Tracer 2 fois l'écart-type autour de la moyenne\n",
    "        plt.plot(upper_bound, linestyle='--', linewidth=0.75, color='blue', label='Mean + Std Dev')\n",
    "        plt.plot(lower_bound, linestyle='--', linewidth=0.75, color='blue', label='Mean - Std Dev')\n",
    "        \n",
    "        # Personnaliser le graphique\n",
    "        #plt.yscale('log')\n",
    "        plt.title(\"CPPI Strategy Simulation\")\n",
    "        plt.xlabel(\"Time Steps\")\n",
    "        plt.ylabel(\"Portfolio Value\")\n",
    "        plt.grid(True)\n",
    "        plt.legend()\n",
    "        plt.show()\n",
    "\n",
    "# Bind the button to the function\n",
    "run_button.on_click(run_simulation)\n",
    "\n",
    "# Display the widgets\n",
    "display(\n",
    "    n_steps_widget, \n",
    "    n_scenarios_widget, \n",
    "    mu_widget, \n",
    "    sigma_widget, \n",
    "    floor_widget, \n",
    "    multiplier_widget, \n",
    "    rf_rate_widget, \n",
    "    n_rebalance_widget,\n",
    "    run_button, output\n",
    ")"
   ]
  },
  {
   "cell_type": "code",
   "execution_count": 4,
   "metadata": {},
   "outputs": [
    {
     "name": "stdout",
     "output_type": "stream",
     "text": [
      "Avg annual return: 4.2%\n",
      "Avg annual volatility: 19.7%\n"
     ]
    }
   ],
   "source": [
    "def avg_return(history: pd.Series, timeperiod: int = 255) -> float:\n",
    "    returns = history.pct_change().dropna()\n",
    "    return (1 + returns.sum()) ** (timeperiod/returns.count()) - 1\n",
    "\n",
    "def avg_volatility(history: pd.Series, timeperiod: int = 255) -> float:\n",
    "    returns = history.pct_change()\n",
    "    return returns.std() * np.sqrt(timeperiod)\n",
    "\n",
    "def max_drawdown(history: pd.Series) -> float:\n",
    "    index = 100 * (1 + history.pct_change()).cumprod()\n",
    "    peaks = index.cummax()\n",
    "    drawdowns = (index - peaks) / peaks\n",
    "    return drawdowns.min()\n",
    "\n",
    "# étude du rendement et de la volatilité moyenne annuelle du S1P 500 de 2000 à nos jours\n",
    "import yfinance as yf\n",
    "history = yf.Ticker('^GSPC').history('max')['Close'].tz_localize(None).dropna()\n",
    "history = history.loc['01/01/2000':'01/11/2024']\n",
    "\n",
    "print(f'Avg annual return: {\"{:.3}%\".format(avg_return(history)*100)}')\n",
    "print(f'Avg annual volatility: {\"{:.3}%\".format(avg_volatility(history)*100)}')"
   ]
  },
  {
   "cell_type": "code",
   "execution_count": 21,
   "metadata": {},
   "outputs": [],
   "source": [
    "data_df = cppi(\n",
    "    gbm(\n",
    "        n_steps=90, \n",
    "        n_scenarios=1000, \n",
    "        mu=avg_return(history), \n",
    "        sigma=avg_volatility(history),\n",
    "        s_0=100, \n",
    "        prices=True\n",
    "    ),\n",
    "    floor=90, \n",
    "    multiplier=3, \n",
    "    risk_free_rate=0.0475, \n",
    "    n_rebalance=12\n",
    ")"
   ]
  },
  {
   "cell_type": "code",
   "execution_count": 22,
   "metadata": {},
   "outputs": [
    {
     "data": {
      "text/html": [
       "<div>\n",
       "<style scoped>\n",
       "    .dataframe tbody tr th:only-of-type {\n",
       "        vertical-align: middle;\n",
       "    }\n",
       "\n",
       "    .dataframe tbody tr th {\n",
       "        vertical-align: top;\n",
       "    }\n",
       "\n",
       "    .dataframe thead th {\n",
       "        text-align: right;\n",
       "    }\n",
       "</style>\n",
       "<table border=\"1\" class=\"dataframe\">\n",
       "  <thead>\n",
       "    <tr style=\"text-align: right;\">\n",
       "      <th></th>\n",
       "      <th>Max drawdown</th>\n",
       "      <th>Average return</th>\n",
       "      <th>Average volatility</th>\n",
       "    </tr>\n",
       "  </thead>\n",
       "  <tbody>\n",
       "    <tr>\n",
       "      <th>count</th>\n",
       "      <td>1000.0000</td>\n",
       "      <td>1000.0000</td>\n",
       "      <td>1000.0000</td>\n",
       "    </tr>\n",
       "    <tr>\n",
       "      <th>mean</th>\n",
       "      <td>-0.0629</td>\n",
       "      <td>0.0847</td>\n",
       "      <td>0.1093</td>\n",
       "    </tr>\n",
       "    <tr>\n",
       "      <th>std</th>\n",
       "      <td>0.0211</td>\n",
       "      <td>0.2452</td>\n",
       "      <td>0.0326</td>\n",
       "    </tr>\n",
       "    <tr>\n",
       "      <th>min</th>\n",
       "      <td>-0.1679</td>\n",
       "      <td>-0.2231</td>\n",
       "      <td>0.0452</td>\n",
       "    </tr>\n",
       "    <tr>\n",
       "      <th>25%</th>\n",
       "      <td>-0.0742</td>\n",
       "      <td>-0.0777</td>\n",
       "      <td>0.0846</td>\n",
       "    </tr>\n",
       "    <tr>\n",
       "      <th>50%</th>\n",
       "      <td>-0.0599</td>\n",
       "      <td>0.0165</td>\n",
       "      <td>0.1038</td>\n",
       "    </tr>\n",
       "    <tr>\n",
       "      <th>75%</th>\n",
       "      <td>-0.0482</td>\n",
       "      <td>0.1700</td>\n",
       "      <td>0.1281</td>\n",
       "    </tr>\n",
       "    <tr>\n",
       "      <th>max</th>\n",
       "      <td>-0.0216</td>\n",
       "      <td>1.9591</td>\n",
       "      <td>0.2610</td>\n",
       "    </tr>\n",
       "  </tbody>\n",
       "</table>\n",
       "</div>"
      ],
      "text/plain": [
       "       Max drawdown  Average return  Average volatility\n",
       "count     1000.0000       1000.0000           1000.0000\n",
       "mean        -0.0629          0.0847              0.1093\n",
       "std          0.0211          0.2452              0.0326\n",
       "min         -0.1679         -0.2231              0.0452\n",
       "25%         -0.0742         -0.0777              0.0846\n",
       "50%         -0.0599          0.0165              0.1038\n",
       "75%         -0.0482          0.1700              0.1281\n",
       "max         -0.0216          1.9591              0.2610"
      ]
     },
     "execution_count": 22,
     "metadata": {},
     "output_type": "execute_result"
    }
   ],
   "source": [
    "result_df = pd.DataFrame()\n",
    "result_df['Max drawdown'] = max_drawdown(data_df).describe().round(4)\n",
    "result_df['Average return'] = avg_return(data_df, timeperiod=255).describe().round(4)\n",
    "result_df['Average volatility'] = avg_volatility(data_df, timeperiod=255).describe().round(4)\n",
    "result_df"
   ]
  },
  {
   "cell_type": "code",
   "execution_count": null,
   "metadata": {},
   "outputs": [],
   "source": []
  }
 ],
 "metadata": {
  "kernelspec": {
   "display_name": "Python 3",
   "language": "python",
   "name": "python3"
  },
  "language_info": {
   "codemirror_mode": {
    "name": "ipython",
    "version": 3
   },
   "file_extension": ".py",
   "mimetype": "text/x-python",
   "name": "python",
   "nbconvert_exporter": "python",
   "pygments_lexer": "ipython3",
   "version": "3.12.3"
  }
 },
 "nbformat": 4,
 "nbformat_minor": 2
}
